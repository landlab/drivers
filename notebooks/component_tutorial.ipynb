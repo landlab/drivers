{
 "cells": [
  {
   "cell_type": "markdown",
   "metadata": {},
   "source": [
    "<img src=\"https://avatars1.githubusercontent.com/u/7543483?v=3&s=200\">"
   ]
  },
  {
   "cell_type": "markdown",
   "metadata": {},
   "source": [
    "# Getting to know the Landlab component library"
   ]
  },
  {
   "cell_type": "markdown",
   "metadata": {},
   "source": [
    "This ipython notebook walks you through the stages of creating and running a Landlab model using the Landlab component library.\n",
    "\n",
    "We are going to create three models - firstly a single component driver implementing just linear diffusion; then a three component driver implementing linear diffusion, flow routing, and stream power incision; then a similar model, but implementing a storm-interstorm sequence.\n",
    "\n",
    "Let's begin with the one-component diffusion model.\n",
    "\n",
    "Firstly, import the library elements we'll need:"
   ]
  },
  {
   "cell_type": "code",
   "execution_count": null,
   "metadata": {
    "collapsed": false
   },
   "outputs": [],
   "source": [
    "%matplotlib inline\n",
    "#this makes figures show up correctly in this document\n",
    "from landlab.components.diffusion.diffusion import LinearDiffuser\n",
    "from landlab import ModelParameterDictionary\n",
    "from landlab.plot.imshow import imshow_node_grid\n",
    "from landlab import RasterModelGrid\n",
    "import numpy as np\n",
    "import pylab"
   ]
  },
  {
   "cell_type": "markdown",
   "metadata": {},
   "source": [
    "Now we're going to instantiate the objects we'll need. The input file, \"component_tutorial_params.txt\", in the same folder as this document, contains all the input data we need to set up the grid and initial conditions as well as the components. We're going to load those as well:"
   ]
  },
  {
   "cell_type": "code",
   "execution_count": null,
   "metadata": {
    "collapsed": false
   },
   "outputs": [],
   "source": [
    "input_file = './component_tutorial_params.txt'\n",
    "inputs = ModelParameterDictionary(input_file) #load the data into an MPD\n",
    "nrows = inputs.read_int('nrows')\n",
    "ncols = inputs.read_int('ncols')\n",
    "dx = inputs.read_float('dx')\n",
    "leftmost_elev = inputs.read_float('leftmost_elevation')\n",
    "initial_slope = inputs.read_float('initial_slope') #this is zero\n",
    "uplift_rate = inputs.read_float('uplift_rate')\n",
    "runtime = inputs.read_float('total_time')\n",
    "dt = inputs.read_float('dt')\n",
    "nt = int(runtime//dt) #this is how many loops we'll need\n",
    "uplift_per_step = uplift_rate * dt"
   ]
  },
  {
   "cell_type": "markdown",
   "metadata": {},
   "source": [
    "...now instantiate the grid object:"
   ]
  },
  {
   "cell_type": "code",
   "execution_count": null,
   "metadata": {
    "collapsed": true
   },
   "outputs": [],
   "source": [
    "mg = RasterModelGrid(nrows, ncols, dx) #the grid"
   ]
  },
  {
   "cell_type": "markdown",
   "metadata": {},
   "source": [
    "...and put the data into the elevation field:"
   ]
  },
  {
   "cell_type": "code",
   "execution_count": null,
   "metadata": {
    "collapsed": false
   },
   "outputs": [],
   "source": [
    "z = mg.add_zeros('node', 'topographic__elevation')"
   ]
  },
  {
   "cell_type": "code",
   "execution_count": null,
   "metadata": {
    "collapsed": false
   },
   "outputs": [],
   "source": [
    "z += leftmost_elev"
   ]
  },
  {
   "cell_type": "code",
   "execution_count": null,
   "metadata": {
    "collapsed": true
   },
   "outputs": [],
   "source": [
    "z += initial_slope*np.amax(mg.node_y) - initial_slope*mg.node_y"
   ]
  },
  {
   "cell_type": "markdown",
   "metadata": {},
   "source": [
    "...and add a little random roughness:"
   ]
  },
  {
   "cell_type": "code",
   "execution_count": null,
   "metadata": {
    "collapsed": true
   },
   "outputs": [],
   "source": [
    "z += np.random.rand(z.size)/100000."
   ]
  },
  {
   "cell_type": "markdown",
   "metadata": {},
   "source": [
    "Set the boundary conditions. Always do this after putting the data into the fields."
   ]
  },
  {
   "cell_type": "code",
   "execution_count": null,
   "metadata": {
    "collapsed": true
   },
   "outputs": [],
   "source": [
    "mg.set_closed_boundaries_at_grid_edges(False, True, False, True)"
   ]
  },
  {
   "cell_type": "code",
   "execution_count": null,
   "metadata": {
    "collapsed": true
   },
   "outputs": [],
   "source": [
    "mg.set_fixed_value_boundaries_at_grid_edges(True, False, True, False)"
   ]
  },
  {
   "cell_type": "markdown",
   "metadata": {},
   "source": [
    "Now, instantiate the component. It's also best practice to do this after both loading the data into the fields and setting the boundary conditions."
   ]
  },
  {
   "cell_type": "code",
   "execution_count": null,
   "metadata": {
    "collapsed": true
   },
   "outputs": [],
   "source": [
    "lin_diffuse = LinearDiffuser(mg, input_file)"
   ]
  },
  {
   "cell_type": "markdown",
   "metadata": {},
   "source": [
    "Perform the loop that operates the model."
   ]
  },
  {
   "cell_type": "code",
   "execution_count": null,
   "metadata": {
    "collapsed": false
   },
   "outputs": [],
   "source": [
    "elapsed_time = 0.\n",
    "keep_running = True\n",
    "while keep_running:\n",
    "    if elapsed_time+dt > runtime:\n",
    "        dt = runtime-elapsed_time\n",
    "        keep_running = False\n",
    "    lin_diffuse.diffuse(dt) #do the diffusion\n",
    "    mg.at_node['topographic__elevation'][mg.core_nodes] += uplift_per_step\n",
    "    #add the uplift\n",
    "    elapsed_time += dt"
   ]
  },
  {
   "cell_type": "markdown",
   "metadata": {},
   "source": [
    "Now plot the output!"
   ]
  },
  {
   "cell_type": "code",
   "execution_count": null,
   "metadata": {
    "collapsed": false
   },
   "outputs": [],
   "source": [
    "pylab.figure(1)\n",
    "im = imshow_node_grid(mg, 'topographic__elevation', grid_units=['m','m'])"
   ]
  },
  {
   "cell_type": "code",
   "execution_count": null,
   "metadata": {
    "collapsed": false
   },
   "outputs": [],
   "source": [
    "pylab.figure(2)\n",
    "elev_rast = mg.node_vector_to_raster(mg.at_node['topographic__elevation'])\n",
    "ycoord_rast = mg.node_vector_to_raster(mg.node_y)\n",
    "im = pylab.plot(ycoord_rast[:,int(ncols//2)], elev_rast[:,int(ncols//2)])\n",
    "pylab.xlabel('horizontal distance (m)')\n",
    "pylab.ylabel('vertical distance (m)')\n",
    "pylab.title('topographic__elevation cross section')"
   ]
  },
  {
   "cell_type": "markdown",
   "metadata": {},
   "source": [
    "Now we're going to take a similar approach but this time combine the outputs of three distinct Landlab components: the diffuser, the monodirectional flow router, and the stream power incisor. For clarity, we're going to repeat the whole process from the start.\n",
    "\n",
    "So first, let's import everything:"
   ]
  },
  {
   "cell_type": "code",
   "execution_count": null,
   "metadata": {
    "collapsed": false
   },
   "outputs": [],
   "source": [
    "from landlab.components.flow_routing.route_flow_dn import FlowRouter\n",
    "from landlab.components.stream_power.fastscape_stream_power import SPEroder\n",
    "from landlab.components.diffusion.diffusion import LinearDiffuser\n",
    "from landlab import ModelParameterDictionary\n",
    "from landlab.plot.imshow import imshow_node_grid\n",
    "from landlab import RasterModelGrid\n",
    "import numpy as np\n",
    "import pylab"
   ]
  },
  {
   "cell_type": "markdown",
   "metadata": {
    "collapsed": true
   },
   "source": [
    "And again, get all the parameters we need to set up. Note this time we've switched units to km and artificially accelerated some rates to improve model performance, reflected in the new input file."
   ]
  },
  {
   "cell_type": "code",
   "execution_count": null,
   "metadata": {
    "collapsed": false
   },
   "outputs": [],
   "source": [
    "input_file = './coupled_params.txt'\n",
    "inputs = ModelParameterDictionary(input_file) #load the data into an MPD\n",
    "nrows = inputs.read_int('nrows')\n",
    "ncols = inputs.read_int('ncols')\n",
    "dx = inputs.read_float('dx')\n",
    "leftmost_elev = inputs.read_float('leftmost_elevation')\n",
    "initial_slope = inputs.read_float('initial_slope') #this is zero\n",
    "uplift_rate = inputs.read_float('uplift_rate')\n",
    "runtime = inputs.read_float('total_time')\n",
    "dt = inputs.read_float('dt')\n",
    "nt = int(runtime//dt) #this is how many loops we'll need\n",
    "uplift_per_step = uplift_rate * dt"
   ]
  },
  {
   "cell_type": "markdown",
   "metadata": {},
   "source": [
    "And instantiate the grid, set the initial conditions, and set the boundary conditions:"
   ]
  },
  {
   "cell_type": "code",
   "execution_count": null,
   "metadata": {
    "collapsed": true
   },
   "outputs": [],
   "source": [
    "mg = RasterModelGrid(nrows, ncols, dx)\n",
    "z = mg.add_zeros('node', 'topographic__elevation')\n",
    "z += leftmost_elev\n",
    "z += initial_slope*np.amax(mg.node_y) - initial_slope*mg.node_y\n",
    "initial_roughness = np.random.rand(z.size)/100000.\n",
    "z += initial_roughness\n",
    "mg.set_closed_boundaries_at_grid_edges(False, True, False, True)\n",
    "mg.set_fixed_value_boundaries_at_grid_edges(True, False, True, False)"
   ]
  },
  {
   "cell_type": "markdown",
   "metadata": {},
   "source": [
    "So far, so familiar. Now we're going to instantiate all our components:"
   ]
  },
  {
   "cell_type": "code",
   "execution_count": null,
   "metadata": {
    "collapsed": false
   },
   "outputs": [],
   "source": [
    "fr = FlowRouter(mg) #note the flow router doesn't have to take an input file\n",
    "sp = SPEroder(mg, input_file)\n",
    "lin_diffuse = LinearDiffuser(mg, input_file)"
   ]
  },
  {
   "cell_type": "markdown",
   "metadata": {},
   "source": [
    "And now we run! We're going to run once with the diffusion, and once without."
   ]
  },
  {
   "cell_type": "code",
   "execution_count": null,
   "metadata": {
    "collapsed": false
   },
   "outputs": [],
   "source": [
    "elapsed_time = 0.\n",
    "keep_running = True\n",
    "counter = 0 #simple incremented counter to let us see the model advance\n",
    "while keep_running:\n",
    "    if elapsed_time+dt > runtime:\n",
    "        dt = runtime-elapsed_time\n",
    "        keep_running = False\n",
    "    #_ = lin_diffuse.diffuse(dt) no diffusion this time\n",
    "    _ = fr.route_flow() #route_flow isn't time sensitive, so it doesn't take dt as input\n",
    "    _ = sp.erode(mg, dt=dt)\n",
    "    #this component is of an older style,\n",
    "    #so it still needs a copy of the grid to be passed\n",
    "    mg.at_node['topographic__elevation'][mg.core_nodes] += uplift_per_step\n",
    "    #add the uplift\n",
    "    elapsed_time += dt\n",
    "    if counter%50 == 0:\n",
    "        print 'Completed loop ', counter\n",
    "    counter += 1"
   ]
  },
  {
   "cell_type": "markdown",
   "metadata": {
    "collapsed": true
   },
   "source": [
    "Let's see our output this time. You'll need to give the above code a few 10s of seconds to run."
   ]
  },
  {
   "cell_type": "code",
   "execution_count": null,
   "metadata": {
    "collapsed": false
   },
   "outputs": [],
   "source": [
    "pylab.figure('topo without diffusion')\n",
    "im = imshow_node_grid(mg, 'topographic__elevation', grid_units=['km','km'])"
   ]
  },
  {
   "cell_type": "markdown",
   "metadata": {
    "collapsed": true
   },
   "source": [
    "And now let's reset the grid elevations and do everything again, but this time, with the diffusion turned *on*:"
   ]
  },
  {
   "cell_type": "code",
   "execution_count": null,
   "metadata": {
    "collapsed": false
   },
   "outputs": [],
   "source": [
    "z = mg.add_zeros('node', 'topographic__elevation')\n",
    "z += leftmost_elev\n",
    "z += initial_slope*np.amax(mg.node_y) - initial_slope*mg.node_y\n",
    "z += initial_roughness\n",
    "elapsed_time = 0.\n",
    "keep_running = True\n",
    "dt = inputs.read_float('dt')\n",
    "counter = 0\n",
    "while keep_running:\n",
    "    if elapsed_time+dt > runtime:\n",
    "        dt = runtime-elapsed_time\n",
    "        keep_running = False\n",
    "    _ = lin_diffuse.diffuse(dt) #diffusion now on\n",
    "    _ = fr.route_flow()\n",
    "    _ = sp.erode(mg, dt=dt)\n",
    "    mg.at_node['topographic__elevation'][mg.core_nodes] += uplift_per_step\n",
    "    #add the uplift\n",
    "    elapsed_time += dt\n",
    "    if counter%50 == 0:\n",
    "        print 'Completed loop ', counter\n",
    "    counter += 1"
   ]
  },
  {
   "cell_type": "code",
   "execution_count": null,
   "metadata": {
    "collapsed": false
   },
   "outputs": [],
   "source": [
    "pylab.figure('topo with diffusion')\n",
    "im = imshow_node_grid(mg, 'topographic__elevation', grid_units=['km','km'])"
   ]
  },
  {
   "cell_type": "markdown",
   "metadata": {
    "collapsed": true
   },
   "source": [
    "Beautiful! We've smoothed away the fine-scale channel roughness, as expected, and produced some lovely convex-up hillslopes in its place. Note that even though the initial conditions were identical in both cases, including the roughness, the channel positions have been moved significantly by the hillslope diffusion into the channel."
   ]
  },
  {
   "cell_type": "markdown",
   "metadata": {},
   "source": [
    "As a final step, we're going to show off some of Landlab's fancier functionality. We're going to repeat the above coupled model run, but this time we're going to plot some evolving channel profiles, and we're going to drive the simulation with a sequence of storms, not just a fixed timestep. We'll also peoduce a slope-area plot for the final conditions.\n",
    "\n",
    "So, load the new landlab objects we'll need, then reset the initial conditions:"
   ]
  },
  {
   "cell_type": "code",
   "execution_count": null,
   "metadata": {
    "collapsed": true
   },
   "outputs": [],
   "source": [
    "from landlab.plot import channel_profile as prf\n",
    "from landlab.components.uniform_precip.generate_uniform_precip import PrecipitationDistribution"
   ]
  },
  {
   "cell_type": "code",
   "execution_count": null,
   "metadata": {
    "collapsed": true
   },
   "outputs": [],
   "source": [
    "z = mg.add_zeros('node', 'topographic__elevation')\n",
    "z += leftmost_elev\n",
    "z += initial_slope*np.amax(mg.node_y) - initial_slope*mg.node_y\n",
    "z += initial_roughness\n",
    "dt = inputs.read_float('dt')"
   ]
  },
  {
   "cell_type": "markdown",
   "metadata": {},
   "source": [
    "Instantiate the storm generator:"
   ]
  },
  {
   "cell_type": "code",
   "execution_count": null,
   "metadata": {
    "collapsed": false
   },
   "outputs": [],
   "source": [
    "precip = PrecipitationDistribution(input_file='coupled_params_storms.txt')"
   ]
  },
  {
   "cell_type": "markdown",
   "metadata": {},
   "source": [
    "Now run:"
   ]
  },
  {
   "cell_type": "code",
   "execution_count": null,
   "metadata": {
    "collapsed": false,
    "scrolled": false
   },
   "outputs": [],
   "source": [
    "out_interval = 20.\n",
    "last_trunc = runtime #we use this to trigger taking an output plot\n",
    "for (interval_duration, rainfall_rate) in precip.yield_storm_interstorm_duration_intensity():\n",
    "    if rainfall_rate != 0.:\n",
    "        #note diffusion also only happens when it's raining...\n",
    "        _ = fr.route_flow()\n",
    "        sp.gear_timestep(interval_duration, rainfall_intensity_in=rainfall_rate)\n",
    "        _ = sp.erode(mg)\n",
    "        _ = lin_diffuse.diffuse(interval_duration)\n",
    "    mg.at_node['topographic__elevation'][mg.core_nodes] += uplift_rate*interval_duration\n",
    "    this_trunc = precip.elapsed_time//out_interval\n",
    "    if this_trunc != last_trunc: #time to plot a new profile!\n",
    "        print 'made it to time ', out_interval*this_trunc\n",
    "        last_trunc=this_trunc\n",
    "        pylab.figure(\"long_profiles\")\n",
    "        profile_IDs = prf.channel_nodes(mg, mg.at_node['topographic__steepest_slope'],\n",
    "                        mg.at_node['drainage_area'], mg.at_node['flow_receiver'])\n",
    "        dists_upstr = prf.get_distances_upstream(mg, len(mg.at_node['topographic__steepest_slope']),\n",
    "                        profile_IDs, mg.at_node['links_to_flow_receiver'])\n",
    "        prf.plot_profiles(dists_upstr, profile_IDs, mg.at_node['topographic__elevation'])\n",
    "    #no need to track elapsed time, as the generator will stop automatically\n",
    "#make the figure look nicer:\n",
    "pylab.figure(\"long_profiles\")\n",
    "pylab.xlabel('Distance upstream (km)')\n",
    "pylab.ylabel ('Elevation (km)')\n",
    "pylab.title('Long profiles evolving through time')"
   ]
  },
  {
   "cell_type": "markdown",
   "metadata": {},
   "source": [
    "Note that the \"wobbles\" in the long profile here are being created by the stochastic storm sequence. We could reduce their impact by reducing the storm-interstorm timescales, or allowing diffusion while it's not raining, but we've chosen not to here to show that the storms are having an effect."
   ]
  },
  {
   "cell_type": "code",
   "execution_count": null,
   "metadata": {
    "collapsed": false
   },
   "outputs": [],
   "source": [
    "pylab.figure('topo with diffusion and storms')\n",
    "im = imshow_node_grid(mg, 'topographic__elevation', grid_units=['km','km'])"
   ]
  },
  {
   "cell_type": "code",
   "execution_count": null,
   "metadata": {
    "collapsed": false
   },
   "outputs": [],
   "source": [
    "pylab.figure('final slope-area plot')\n",
    "im = pylab.loglog(mg.at_node['drainage_area'], mg.at_node['topographic__steepest_slope'],'.')\n",
    "pylab.xlabel('Drainage area (km**2)')\n",
    "pylab.ylabel('Local slope')\n",
    "pylab.title('Slope-Area plot for whole landscape')"
   ]
  },
  {
   "cell_type": "markdown",
   "metadata": {},
   "source": [
    "That's a nice set of figures, eh? You can easily spend more time with pylab prettifying them if you want."
   ]
  },
  {
   "cell_type": "code",
   "execution_count": null,
   "metadata": {
    "collapsed": true
   },
   "outputs": [],
   "source": []
  }
 ],
 "metadata": {
  "kernelspec": {
   "display_name": "Python 2",
   "language": "python",
   "name": "python2"
  },
  "language_info": {
   "codemirror_mode": {
    "name": "ipython",
    "version": 2
   },
   "file_extension": ".py",
   "mimetype": "text/x-python",
   "name": "python",
   "nbconvert_exporter": "python",
   "pygments_lexer": "ipython2",
   "version": "2.7.10"
  }
 },
 "nbformat": 4,
 "nbformat_minor": 0
}
