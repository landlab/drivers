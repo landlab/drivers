{
 "metadata": {
  "name": "",
  "signature": "sha256:1f51ad24cfcb0a61c9ab8392a1fb81a06cae823d20bea56ee5c361ec0e084eaf"
 },
 "nbformat": 3,
 "nbformat_minor": 0,
 "worksheets": [
  {
   "cells": [
    {
     "cell_type": "markdown",
     "metadata": {},
     "source": [
      "<img src=\"https://avatars1.githubusercontent.com/u/7543483?v=3&s=200\">"
     ]
    },
    {
     "cell_type": "markdown",
     "metadata": {},
     "source": [
      "#What happens when you create a grid object?"
     ]
    },
    {
     "cell_type": "markdown",
     "metadata": {},
     "source": [
      "We can create a **grid** object with the following lines of code:"
     ]
    },
    {
     "cell_type": "code",
     "collapsed": false,
     "input": [
      "from landlab import RasterModelGrid\n",
      "rg = RasterModelGrid(3, 4, 1.0)"
     ],
     "language": "python",
     "metadata": {},
     "outputs": []
    },
    {
     "cell_type": "markdown",
     "metadata": {},
     "source": [
      "Our `RasterModelGrid` object contains various data items (known as *attributes*). These include, for example:\n",
      "* number nodes and links in the grid\n",
      "* *x* and *y* coordinates of each each node\n",
      "* starting (\"tail\") and ending (\"head\") node IDs of each link\n",
      "* IDs of links that are active\n",
      "* IDs of core nodes\n",
      "* etc."
     ]
    },
    {
     "cell_type": "code",
     "collapsed": false,
     "input": [
      "rg.number_of_nodes"
     ],
     "language": "python",
     "metadata": {},
     "outputs": []
    },
    {
     "cell_type": "code",
     "collapsed": false,
     "input": [
      "rg.number_of_links"
     ],
     "language": "python",
     "metadata": {},
     "outputs": []
    },
    {
     "cell_type": "markdown",
     "metadata": {},
     "source": [
      "Let's look at the *(x,y)* coordinates of the nodes:"
     ]
    },
    {
     "cell_type": "code",
     "collapsed": false,
     "input": [
      "for i in range(rg.number_of_nodes):\n",
      "    print i, rg.node_x[i], rg.node_y[i]"
     ],
     "language": "python",
     "metadata": {},
     "outputs": []
    },
    {
     "cell_type": "markdown",
     "metadata": {},
     "source": [
      "Link connectivity is described by specifying the starting (\"tail\") and ending (\"head\") node IDs for each link (to remember this, think of an arrow: TAIL ===> HEAD)."
     ]
    },
    {
     "cell_type": "code",
     "collapsed": false,
     "input": [
      "for i in range(rg.number_of_links):\n",
      "    print 'Link',i,':  node',rg.node_index_at_link_tail[i],'===> node',rg.node_index_at_link_head[i]"
     ],
     "language": "python",
     "metadata": {},
     "outputs": []
    },
    {
     "cell_type": "markdown",
     "metadata": {},
     "source": [
      "We can get a list of the IDs of all active links:"
     ]
    },
    {
     "cell_type": "code",
     "collapsed": false,
     "input": [
      "rg.active_links"
     ],
     "language": "python",
     "metadata": {},
     "outputs": []
    },
    {
     "cell_type": "markdown",
     "metadata": {},
     "source": [
      "Or find out which links are connected to a particular node:"
     ]
    },
    {
     "cell_type": "code",
     "collapsed": false,
     "input": [
      "rg.node_links(5)"
     ],
     "language": "python",
     "metadata": {},
     "outputs": []
    },
    {
     "cell_type": "markdown",
     "metadata": {},
     "source": [
      "We can attach data to the grid, at nodes..."
     ]
    },
    {
     "cell_type": "code",
     "collapsed": false,
     "input": [
      "rg.add_ones('node', 'elevation')  # Creates a new array of data associated with nodes\n",
      "rg.at_node['elevation']  # Note the use of dictionary syntax"
     ],
     "language": "python",
     "metadata": {},
     "outputs": []
    },
    {
     "cell_type": "markdown",
     "metadata": {},
     "source": [
      "...or at links:"
     ]
    },
    {
     "cell_type": "code",
     "collapsed": false,
     "input": [
      "rg.add_zeros('link', 'slope')  # Creates a new array of data associated with nodes\n",
      "rg.at_link['slope']"
     ],
     "language": "python",
     "metadata": {},
     "outputs": []
    },
    {
     "cell_type": "markdown",
     "metadata": {},
     "source": [
      "These data arrays attached to the grid are known as **fields**, and they provide a convenient way for multiple pieces of code (including **components**) to share both grid and data.\n",
      "\n",
      "These are just a few of many functions for accessing information about the grid and its geometry and topology."
     ]
    },
    {
     "cell_type": "code",
     "collapsed": false,
     "input": [],
     "language": "python",
     "metadata": {},
     "outputs": []
    }
   ],
   "metadata": {}
  }
 ]
}