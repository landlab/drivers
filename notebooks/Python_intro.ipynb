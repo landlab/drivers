{
 "cells": [
  {
   "cell_type": "markdown",
   "metadata": {},
   "source": [
    "# A super-brief intro to Python and Numpy"
   ]
  },
  {
   "cell_type": "markdown",
   "metadata": {},
   "source": [
    "Python is:\n",
    "* interpreted (high level)\n",
    "* readable\n",
    "* concise\n",
    "* cross-platform\n",
    "* dynamically-typed\n",
    "* object oriented\n",
    "* automatically memory-managed\n",
    "\n",
    "Almost all of the below is explained much more fully at various places online. Try:\n",
    "http://nbviewer.ipython.org/github/jrjohansson/scientific-python-lectures/tree/master/\n",
    "...for a nice entry level tutorial set, or the Software Carpentry intros:\n",
    "http://software-carpentry.org/v4/python/\n",
    "\n",
    "The main Python documentation is also an extremely readable source of knowledge. Just Google!"
   ]
  },
  {
   "cell_type": "markdown",
   "metadata": {},
   "source": [
    "##PROGRAM FILES AND INTERACTIVE ENVIRONMENTS\n",
    "Put Python code in .py text files (AKA \"scripts\").\n",
    "Run these from a shell, as:\n",
    "\n",
    "> python myscript.py\n",
    "\n",
    "OR\n",
    "\n",
    "Use one of Python's interactive environments (e.g., iPython)!\n",
    "\n",
    "> ipython\n",
    "\n",
    "In an interactive environment:\n",
    "\n",
    "* Run code line-by-line, preserving variables\n",
    "* Run your scripts, using the magic command \"%run\" (& preserve the variables)\n",
    "\n",
    "This iPython notebook is an interactive environment."
   ]
  },
  {
   "cell_type": "markdown",
   "metadata": {},
   "source": [
    "##MODULES\n",
    "Python has some built-in functions, but everything else comes in a library module.\n",
    "\n",
    "* See the built in functions here: https://docs.python.org/2/library/functions.html\n",
    "\n",
    "Modules are *imported*, then the functions they hold run with a *dot* syntax:"
   ]
  },
  {
   "cell_type": "code",
   "execution_count": 3,
   "metadata": {
    "collapsed": false
   },
   "outputs": [
    {
     "name": "stdout",
     "output_type": "stream",
     "text": [
      "1.0\n"
     ]
    }
   ],
   "source": [
    "import math  # comments with a hash\n",
    "x = math.cos(2. * math.pi)\n",
    "print x   # print is a built-in function"
   ]
  },
  {
   "cell_type": "markdown",
   "metadata": {},
   "source": [
    "OR import the functions and properties individually:"
   ]
  },
  {
   "cell_type": "code",
   "execution_count": 4,
   "metadata": {
    "collapsed": false
   },
   "outputs": [
    {
     "name": "stdout",
     "output_type": "stream",
     "text": [
      "1.0\n"
     ]
    }
   ],
   "source": [
    "from numpy import cos, pi #numpy, numeric python, also has these functions\n",
    "x = cos(2. * pi)\n",
    "print x"
   ]
  },
  {
   "cell_type": "markdown",
   "metadata": {},
   "source": [
    "Get help in an interactive shell with a trailing \"?\", quit it with \"q\""
   ]
  },
  {
   "cell_type": "code",
   "execution_count": 5,
   "metadata": {
    "collapsed": true
   },
   "outputs": [],
   "source": [
    "pi?"
   ]
  },
  {
   "cell_type": "markdown",
   "metadata": {},
   "source": [
    "##TYPES\n",
    "Python distinguishes:\n",
    "* integer (int)\n",
    "* float (float)\n",
    "* boolean (bool)\n",
    "* complex (complex)\n",
    "* strings (str)\n",
    "\n",
    "You may also encounter numpy types, like \"numpy.float64\""
   ]
  },
  {
   "cell_type": "code",
   "execution_count": 6,
   "metadata": {
    "collapsed": false
   },
   "outputs": [
    {
     "data": {
      "text/plain": [
       "float"
      ]
     },
     "execution_count": 6,
     "metadata": {},
     "output_type": "execute_result"
    }
   ],
   "source": [
    "type(pi)"
   ]
  },
  {
   "cell_type": "markdown",
   "metadata": {},
   "source": [
    "Typecasting is automatic where possible, but can be time-expensive.\n",
    "\n",
    "Python's inbuilt *data structures* are:\n",
    "* tuples, with *parentheses* - immutable\n",
    "* lists, with *square brackets* - mutable\n",
    "* sets, as set() - unordered collection with no duplicates\n",
    "* dictionaries, with *curly brackets* - associated pairs of key:value\n",
    "\n",
    "Note that all these data structures let you happily mix data types... But the cost is that Python runs slower than, e.g., C++."
   ]
  },
  {
   "cell_type": "code",
   "execution_count": 7,
   "metadata": {
    "collapsed": false
   },
   "outputs": [
    {
     "name": "stdout",
     "output_type": "stream",
     "text": [
      "You can index:  1\n",
      "...but not reassign...\n"
     ]
    },
    {
     "ename": "TypeError",
     "evalue": "'tuple' object does not support item assignment",
     "output_type": "error",
     "traceback": [
      "\u001b[0;31m---------------------------------------------------------------------------\u001b[0m",
      "\u001b[0;31mTypeError\u001b[0m                                 Traceback (most recent call last)",
      "\u001b[0;32m<ipython-input-7-4ef03679a51d>\u001b[0m in \u001b[0;36m<module>\u001b[0;34m()\u001b[0m\n\u001b[1;32m      2\u001b[0m \u001b[0;32mprint\u001b[0m \u001b[0;34m'You can index: '\u001b[0m\u001b[0;34m,\u001b[0m \u001b[0mmytuple\u001b[0m\u001b[0;34m[\u001b[0m\u001b[0;36m1\u001b[0m\u001b[0;34m]\u001b[0m\u001b[0;34m\u001b[0m\u001b[0m\n\u001b[1;32m      3\u001b[0m \u001b[0;32mprint\u001b[0m \u001b[0;34m'...but not reassign...'\u001b[0m\u001b[0;34m\u001b[0m\u001b[0m\n\u001b[0;32m----> 4\u001b[0;31m \u001b[0mmytuple\u001b[0m\u001b[0;34m[\u001b[0m\u001b[0;36m0\u001b[0m\u001b[0;34m]\u001b[0m \u001b[0;34m=\u001b[0m \u001b[0;36m100\u001b[0m\u001b[0;34m\u001b[0m\u001b[0m\n\u001b[0m",
      "\u001b[0;31mTypeError\u001b[0m: 'tuple' object does not support item assignment"
     ]
    }
   ],
   "source": [
    "mytuple = (0,1,2,3)\n",
    "print 'You can index: ', mytuple[1]\n",
    "print '...but not reassign...'\n",
    "mytuple[0] = 100"
   ]
  },
  {
   "cell_type": "code",
   "execution_count": 8,
   "metadata": {
    "collapsed": false
   },
   "outputs": [
    {
     "name": "stdout",
     "output_type": "stream",
     "text": [
      "This time reassignment works: \n",
      "['I can store a string!', 1, 2, 3]\n"
     ]
    }
   ],
   "source": [
    "mylist = [0,1,2,3]\n",
    "print 'This time reassignment works: '\n",
    "mylist[0] = 'I can store a string!'\n",
    "print mylist"
   ]
  },
  {
   "cell_type": "code",
   "execution_count": 9,
   "metadata": {
    "collapsed": false
   },
   "outputs": [
    {
     "name": "stdout",
     "output_type": "stream",
     "text": [
      "set([0, 1, 2, 3])\n",
      "Adding is easy:  set([0, 1, 2, 3, 'string!'])\n",
      "But remember, duplicates don't count!  set([0, 1, 2, 3, 'string!'])\n"
     ]
    }
   ],
   "source": [
    "myset = set([0,1,2,3])\n",
    "print myset\n",
    "myset.add(\"string!\") #you can use both ' and \" to declare a string\n",
    "print 'Adding is easy: ', myset\n",
    "myset.add(0)\n",
    "print \"But remember, duplicates don't count! \", myset"
   ]
  },
  {
   "cell_type": "code",
   "execution_count": 10,
   "metadata": {
    "collapsed": false
   },
   "outputs": [
    {
     "name": "stdout",
     "output_type": "stream",
     "text": [
      "{'secondkey': 2, 3: 'three', 'firstkey': 1}\n",
      "1\n",
      "2\n",
      "three\n",
      "Get the keys (note lack of ordering):  ['secondkey', 3, 'firstkey']\n",
      "Get the values:  [2, 'three', 1]\n",
      "This will fail: "
     ]
    },
    {
     "ename": "KeyError",
     "evalue": "2",
     "output_type": "error",
     "traceback": [
      "\u001b[0;31m---------------------------------------------------------------------------\u001b[0m",
      "\u001b[0;31mKeyError\u001b[0m                                  Traceback (most recent call last)",
      "\u001b[0;32m<ipython-input-10-6c8b8759f11b>\u001b[0m in \u001b[0;36m<module>\u001b[0;34m()\u001b[0m\n\u001b[1;32m      6\u001b[0m \u001b[0;32mprint\u001b[0m \u001b[0;34m'Get the keys (note lack of ordering): '\u001b[0m\u001b[0;34m,\u001b[0m \u001b[0mmydict\u001b[0m\u001b[0;34m.\u001b[0m\u001b[0mkeys\u001b[0m\u001b[0;34m(\u001b[0m\u001b[0;34m)\u001b[0m\u001b[0;34m\u001b[0m\u001b[0m\n\u001b[1;32m      7\u001b[0m \u001b[0;32mprint\u001b[0m \u001b[0;34m'Get the values: '\u001b[0m\u001b[0;34m,\u001b[0m \u001b[0mmydict\u001b[0m\u001b[0;34m.\u001b[0m\u001b[0mvalues\u001b[0m\u001b[0;34m(\u001b[0m\u001b[0;34m)\u001b[0m\u001b[0;34m\u001b[0m\u001b[0m\n\u001b[0;32m----> 8\u001b[0;31m \u001b[0;32mprint\u001b[0m \u001b[0;34m'This will fail: '\u001b[0m\u001b[0;34m,\u001b[0m \u001b[0mmydict\u001b[0m\u001b[0;34m[\u001b[0m\u001b[0;36m2\u001b[0m\u001b[0;34m]\u001b[0m\u001b[0;34m\u001b[0m\u001b[0m\n\u001b[0m",
      "\u001b[0;31mKeyError\u001b[0m: 2"
     ]
    }
   ],
   "source": [
    "mydict = {'firstkey':1, 'secondkey':2, 3:'three'}\n",
    "print mydict\n",
    "print mydict['firstkey']\n",
    "print mydict['secondkey']\n",
    "print mydict[3]\n",
    "print 'Get the keys (note lack of ordering): ', mydict.keys()\n",
    "print 'Get the values: ', mydict.values()\n",
    "print 'This will fail: ', mydict[2]"
   ]
  },
  {
   "cell_type": "markdown",
   "metadata": {},
   "source": [
    "## INDEXING\n",
    "* Indexing starts from 0\n",
    "* Index with square brackets [start (: stop(: step))]\n",
    "* \"stop\" is *exclusive* of the named index\n",
    "* Colon alone means \"all of these\" or \"to the start/end\""
   ]
  },
  {
   "cell_type": "code",
   "execution_count": 11,
   "metadata": {
    "collapsed": false
   },
   "outputs": [
    {
     "name": "stdout",
     "output_type": "stream",
     "text": [
      " x[3] gives  3\n",
      "x[1,5,2] gives  [1, 3]\n",
      "x[8:] gives  [8, 9]\n",
      "x[:7] gives  [0, 1, 2, 3, 4, 5, 6]\n",
      "x[::3] gives  [0, 3, 6, 9]\n"
     ]
    }
   ],
   "source": [
    "x = range(10)\n",
    "print 'x[3] gives ', x[3]\n",
    "print 'x[1,5,2] gives ', x[1:5:2]\n",
    "print 'x[8:] gives ', x[8:]\n",
    "print 'x[:7] gives ', x[:7]\n",
    "print 'x[::3] gives ', x[::3]"
   ]
  },
  {
   "cell_type": "markdown",
   "metadata": {},
   "source": [
    "## PYTHON IS LIKE, BUT ISN'T, MATLAB\n",
    "- This is a *power*:"
   ]
  },
  {
   "cell_type": "code",
   "execution_count": 12,
   "metadata": {
    "collapsed": true
   },
   "outputs": [],
   "source": [
    "x = 10.**2  #...or...\n",
    "import numpy as np\n",
    "x = np.square(10.)  # NEVER 10.^2."
   ]
  },
  {
   "cell_type": "markdown",
   "metadata": {},
   "source": [
    "Likewise, it's also useful to know about the \"truncation\" (//) and \"remainder\" (%) division operators:"
   ]
  },
  {
   "cell_type": "code",
   "execution_count": 31,
   "metadata": {
    "collapsed": false
   },
   "outputs": [
    {
     "name": "stdout",
     "output_type": "stream",
     "text": [
      "truncate:  3\n",
      "remainder:  1\n"
     ]
    }
   ],
   "source": [
    "print 'truncate: ', 13//4\n",
    "print 'remainder: ', 13%4"
   ]
  },
  {
   "cell_type": "markdown",
   "metadata": {},
   "source": [
    "- End indices are NOT inclusive"
   ]
  },
  {
   "cell_type": "code",
   "execution_count": 32,
   "metadata": {
    "collapsed": false
   },
   "outputs": [
    {
     "data": {
      "text/plain": [
       "100"
      ]
     },
     "execution_count": 32,
     "metadata": {},
     "output_type": "execute_result"
    }
   ],
   "source": [
    "len(range(0,100)) #in Matlab this would be 101"
   ]
  },
  {
   "cell_type": "code",
   "execution_count": 33,
   "metadata": {
    "collapsed": false
   },
   "outputs": [
    {
     "data": {
      "text/plain": [
       "[0, 1, 2, 3, 4]"
      ]
     },
     "execution_count": 33,
     "metadata": {},
     "output_type": "execute_result"
    }
   ],
   "source": [
    "[x for x in xrange(5)]"
   ]
  },
  {
   "cell_type": "markdown",
   "metadata": {},
   "source": [
    "- Intelligent memory management means Python will pass objects *by reference* where possible:"
   ]
  },
  {
   "cell_type": "code",
   "execution_count": 34,
   "metadata": {
    "collapsed": false
   },
   "outputs": [
    {
     "name": "stdout",
     "output_type": "stream",
     "text": [
      "x starts as  [0, 0, 0]\n",
      "y starts as  [1, 2, 3]\n",
      "After setting equal, x is  [1, 2, 3]\n",
      "After modifying y, x is  [1, 100, 3]\n",
      "After forcing a copy, x is still  [1, 100, 3]  but y is now  [1, 1000000, 3]\n"
     ]
    }
   ],
   "source": [
    "x = [0] * 3\n",
    "y = [1,2,3]\n",
    "print 'x starts as ', x\n",
    "print 'y starts as ', y\n",
    "x = y\n",
    "print 'After setting equal, x is ', x\n",
    "y[1] = 100\n",
    "print 'After modifying y, x is ', x\n",
    "#force a copy with [:]\n",
    "x = y[:]\n",
    "y[1] = 1000000\n",
    "print 'After forcing a copy, x is still ', x, ' but y is now ', y"
   ]
  },
  {
   "cell_type": "markdown",
   "metadata": {},
   "source": [
    "- As long as you assign to a variable, Python doesn't output by default, so lines don't have to terminate in \";\""
   ]
  },
  {
   "cell_type": "code",
   "execution_count": 35,
   "metadata": {
    "collapsed": false
   },
   "outputs": [],
   "source": [
    "x = range(10) #...see?"
   ]
  },
  {
   "cell_type": "markdown",
   "metadata": {},
   "source": [
    "- Python doesn't use brackets to delineate code blocks. It uses *indentation* with a fixed number of spaces (normally 4). This also applies to for loops, while loops, if statements, try/except statements, class declarations, function declarations, etc etc."
   ]
  },
  {
   "cell_type": "code",
   "execution_count": 36,
   "metadata": {
    "collapsed": false
   },
   "outputs": [
    {
     "name": "stdout",
     "output_type": "stream",
     "text": [
      "first time  12.0\n",
      "second time... \n",
      "Printed this time!\n"
     ]
    }
   ],
   "source": [
    "def myfunction(arg1, arg2, **kwds):\n",
    "    # **kwds is a special (optional) dictionary input type,\n",
    "    # that you can use as an input \"wildcard\"\n",
    "    try:\n",
    "        print_this = kwds['printy']\n",
    "    except KeyError:\n",
    "        x = arg1 * arg2\n",
    "        return x  #...no brackets needed; both lines have 4 space indents\n",
    "    else:\n",
    "        print print_this\n",
    "\n",
    "print 'first time ', myfunction(3.,4.)\n",
    "print 'second time... '\n",
    "myfunction(5,6,printy='Printed this time!')"
   ]
  },
  {
   "cell_type": "markdown",
   "metadata": {},
   "source": [
    "- Python's plotting is a blatant clone of matlab's, and lives in the library matplotlib.pyplot:"
   ]
  },
  {
   "cell_type": "code",
   "execution_count": 38,
   "metadata": {
    "collapsed": false
   },
   "outputs": [
    {
     "data": {
      "text/plain": [
       "<matplotlib.text.Text at 0x108ad9650>"
      ]
     },
     "execution_count": 38,
     "metadata": {},
     "output_type": "execute_result"
    },
    {
     "data": {
      "image/png": "[encoded data removed]",
      "text/plain": [
       "<matplotlib.figure.Figure at 0x108852690>"
      ]
     },
     "metadata": {},
     "output_type": "display_data"
    }
   ],
   "source": [
    "%matplotlib inline\n",
    "#that command tells this notebook to put plots into the notebook\n",
    "import matplotlib.pyplot as plt\n",
    "import numpy as np\n",
    "x = np.arange(10.) #like range()\n",
    "y = np.random.rand(10.) #ten random floats, 0->1\n",
    "plt.plot(x,y, '*--')\n",
    "plt.xlabel('xaxis')\n",
    "plt.ylabel('yaxis')\n",
    "plt.title('my plot!')"
   ]
  },
  {
   "cell_type": "markdown",
   "metadata": {
    "collapsed": true
   },
   "source": [
    "## NUMPY and LANDLAB"
   ]
  },
  {
   "cell_type": "code",
   "execution_count": null,
   "metadata": {
    "collapsed": true
   },
   "outputs": [],
   "source": []
  }
 ],
 "metadata": {
  "kernelspec": {
   "display_name": "Python 2",
   "language": "python",
   "name": "python2"
  },
  "language_info": {
   "codemirror_mode": {
    "name": "ipython",
    "version": 2
   },
   "file_extension": ".py",
   "mimetype": "text/x-python",
   "name": "python",
   "nbconvert_exporter": "python",
   "pygments_lexer": "ipython2",
   "version": "2.7.9"
  }
 },
 "nbformat": 4,
 "nbformat_minor": 0
}
