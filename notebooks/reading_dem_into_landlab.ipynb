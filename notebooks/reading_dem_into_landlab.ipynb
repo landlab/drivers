{
 "cells": [
  {
   "cell_type": "markdown",
   "metadata": {},
   "source": [
    "## How to read a DEM as a Landlab grid"
   ]
  },
  {
   "cell_type": "markdown",
   "metadata": {},
   "source": [
    "The starting point is to obtain a Digital Elevation Model (DEM) in ESRI's Ascii Grid format, or convert it to this format. The format consists of a 6-line header followed by elevation values. Here we'll work with a small example DEM file 'west_bijou_gully.asc'. The header for this file is as follows:\n",
    "\n",
    "``ncols        43\n",
    "nrows        89\n",
    "xllcorner    559705.000000000000\n",
    "yllcorner    4380220.000000000000\n",
    "cellsize     3\n",
    "NODATA_value 0``\n",
    "\n",
    "Here, our objective is to translate the contents of this file into a Landlab RasterModelGrid. We'll do this using the ``read_esri_ascii`` function. Here's how it works:\n"
   ]
  },
  {
   "cell_type": "code",
   "execution_count": 2,
   "metadata": {
    "collapsed": false
   },
   "outputs": [],
   "source": [
    "from landlab.io import read_esri_ascii"
   ]
  },
  {
   "cell_type": "markdown",
   "metadata": {},
   "source": [
    "In the line above, we go to Landlab's input/output library (\"io\") and import the function. Next, let's look at the basic documentation:"
   ]
  },
  {
   "cell_type": "code",
   "execution_count": 3,
   "metadata": {
    "collapsed": false
   },
   "outputs": [
    {
     "name": "stdout",
     "output_type": "stream",
     "text": [
      "Help on function read_esri_ascii in module landlab.io.esri_ascii:\n",
      "\n",
      "read_esri_ascii(asc_file, reshape=False, name=None)\n",
      "    Read :py:class:`~landlab.RasterModelGrid` from an ESRI ASCII file.\n",
      "    \n",
      "    Read data from *asc_file*, an ESRI_ ASCII file, into a\n",
      "    :py:class:`~landlab.RasterModelGrid`.  *asc_file* is either the name of\n",
      "    the data file or is a file-like object.\n",
      "    \n",
      "    The grid and data read from the file are returned as a tuple\n",
      "    (*grid*, *data*) where *grid* is an instance of\n",
      "    :py:class:`~landlab.RasterModelGrid` and *data* is a numpy\n",
      "    array of doubles with that has been reshaped to have the number of rows\n",
      "    and columns given in the header.\n",
      "    \n",
      "    .. _ESRI: http://resources.esri.com/help/9.3/arcgisengine/java/GP_ToolRef/spatial_analyst_tools/esri_ascii_raster_format.htm\n",
      "    \n",
      "    Parameters\n",
      "    ----------\n",
      "    asc_file : str of file-like\n",
      "        Data file to read.\n",
      "    reshape : boolean, optional\n",
      "        Reshape the returned array, otherwise return a flattened array.\n",
      "    name : str, optional\n",
      "        Add data to the grid as a named field.\n",
      "    \n",
      "    Returns\n",
      "    -------\n",
      "    (grid, data) : tuple\n",
      "        A newly-created RasterModel grid and the associated node data.\n",
      "\n"
     ]
    }
   ],
   "source": [
    "help(read_esri_ascii)"
   ]
  },
  {
   "cell_type": "markdown",
   "metadata": {},
   "source": [
    "Ok, this tells us we need to supply the name of the file. If we want the data as a 2D array, we also specify ``reshape = True``. If we want to attach the elevation data to the grid as a field, we also give a name for the field as the ``name`` parameter. For example:"
   ]
  },
  {
   "cell_type": "code",
   "execution_count": 4,
   "metadata": {
    "collapsed": true
   },
   "outputs": [],
   "source": [
    "(mg, z) = read_esri_ascii('west_bijou_gully.asc', name='elevation')"
   ]
  },
  {
   "cell_type": "markdown",
   "metadata": {},
   "source": [
    "Let's plot the grid:"
   ]
  },
  {
   "cell_type": "code",
   "execution_count": 7,
   "metadata": {
    "collapsed": false
   },
   "outputs": [],
   "source": [
    "from landlab.plot.imshow import imshow_node_grid"
   ]
  },
  {
   "cell_type": "code",
   "execution_count": 10,
   "metadata": {
    "collapsed": false
   },
   "outputs": [
    {
     "data": {
      "text/plain": [
       "<matplotlib.collections.QuadMesh at 0x108274150>"
      ]
     },
     "execution_count": 10,
     "metadata": {},
     "output_type": "execute_result"
    },
    {
     "data": {
      "image/png": "[encoded data removed]",
      "text/plain": [
       "<matplotlib.figure.Figure at 0x10d5d5950>"
      ]
     },
     "metadata": {},
     "output_type": "display_data"
    }
   ],
   "source": [
    "%matplotlib inline\n",
    "imshow_node_grid(mg, 'elevation')"
   ]
  },
  {
   "cell_type": "markdown",
   "metadata": {},
   "source": [
    "We can also query a bit of information:"
   ]
  },
  {
   "cell_type": "code",
   "execution_count": 12,
   "metadata": {
    "collapsed": false
   },
   "outputs": [
    {
     "data": {
      "text/plain": [
       "89"
      ]
     },
     "execution_count": 12,
     "metadata": {},
     "output_type": "execute_result"
    }
   ],
   "source": [
    "mg.number_of_node_rows"
   ]
  },
  {
   "cell_type": "code",
   "execution_count": 13,
   "metadata": {
    "collapsed": false
   },
   "outputs": [
    {
     "data": {
      "text/plain": [
       "43"
      ]
     },
     "execution_count": 13,
     "metadata": {},
     "output_type": "execute_result"
    }
   ],
   "source": [
    "mg.number_of_node_columns"
   ]
  },
  {
   "cell_type": "markdown",
   "metadata": {},
   "source": [
    "Since we have a lot of NODATA nodes (outside the watershed), let's make these closed boundaries. The following line says: find all the nodes where z=0 and set them to closed boundary status."
   ]
  },
  {
   "cell_type": "code",
   "execution_count": 14,
   "metadata": {
    "collapsed": true
   },
   "outputs": [],
   "source": [
    "mg.set_nodata_nodes_to_closed(z, 0)"
   ]
  },
  {
   "cell_type": "code",
   "execution_count": null,
   "metadata": {
    "collapsed": true
   },
   "outputs": [],
   "source": []
  }
 ],
 "metadata": {
  "kernelspec": {
   "display_name": "Python 2",
   "language": "python",
   "name": "python2"
  },
  "language_info": {
   "codemirror_mode": {
    "name": "ipython",
    "version": 2
   },
   "file_extension": ".py",
   "mimetype": "text/x-python",
   "name": "python",
   "nbconvert_exporter": "python",
   "pygments_lexer": "ipython2",
   "version": "2.7.10"
  }
 },
 "nbformat": 4,
 "nbformat_minor": 0
}
